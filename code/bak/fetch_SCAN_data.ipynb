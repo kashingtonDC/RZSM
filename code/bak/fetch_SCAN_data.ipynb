{
 "cells": [
  {
   "cell_type": "code",
   "execution_count": 28,
   "metadata": {},
   "outputs": [],
   "source": [
    "import sys\n",
    "import glob\n",
    "import os\n",
    "import pandas as pd\n",
    "import matplotlib.pyplot as plt\n",
    "import ee\n",
    "import numpy as np\n",
    "from scipy import stats\n",
    "from datetime import datetime, timedelta\n",
    "import re\n",
    "\n",
    "def read_file(filename):\n",
    "    with open(filename) as f:\n",
    "        contents = f.readlines()\n",
    "\n",
    "    data = []\n",
    "    for line in contents:\n",
    "        if line[0:1] == \"#\":\n",
    "            continue\n",
    "        else:\n",
    "            data.append(line)\n",
    "\n",
    "    headers = [x.replace(\"Soil Moisture Percent\",\"smp\").replace(\" \",\"_\") for x in data[0].split(\",\")]\n",
    "    cols = [x.strip(\"\\n\").split(\",\") for x in data[1:]]\n",
    "\n",
    "    df = pd.DataFrame(cols, columns = headers)\n",
    "    \n",
    "    return df\n",
    "\n",
    "def get_site_lat_lons(site_num, stations_csv):\n",
    "    df = pd.read_csv(stations_csv)\n",
    "    site = df[df['site_name'].str.contains(site_no)]\n",
    "    \n",
    "    lat, lon = site['lat'].values, site['lon'].values\n",
    "    return lat[0], lon[0]\n",
    "\n",
    "\n",
    "csvs = glob.glob(\"*.csv\")\n",
    "txts = glob.glob(\"*.txt\")\n",
    "site_file = txts[0]\n",
    "stations_csv = csvs[0]\n",
    "\n",
    "site_no = ''.join(c for c in site_file if c.isdigit())\n",
    "data = read_file(site_file)\n",
    "lat, lon = get_site_lat_lons(site_no,stations_csv)"
   ]
  },
  {
   "cell_type": "code",
   "execution_count": 3,
   "metadata": {},
   "outputs": [],
   "source": [
    "df = pd.read_csv(csvs[0])"
   ]
  },
  {
   "cell_type": "code",
   "execution_count": 49,
   "metadata": {},
   "outputs": [],
   "source": [
    "names = list(df.site_name)\n",
    "states = list(df.state)"
   ]
  },
  {
   "cell_type": "code",
   "execution_count": 46,
   "metadata": {},
   "outputs": [],
   "source": [
    "site_ids = []\n",
    "for i, x in enumerate(names):\n",
    "    site_id = re.findall(\"\\d+\", names[i])[-1]\n",
    "    site_ids.append(site_id)"
   ]
  },
  {
   "cell_type": "code",
   "execution_count": 61,
   "metadata": {},
   "outputs": [
    {
     "name": "stdout",
     "output_type": "stream",
     "text": [
      "2065 AK\n",
      "curl https://wcc.sc.egov.usda.gov/reportGenerator/view_csv/customMultiTimeSeriesGroupByStationReport,metric/hourly/start_of_period/2065:AK:SCAN%7Cid=%22%22%7Cname/-35315,-11/SMS:-2:value,SMS:-4:value,SMS:-8:value,SMS:-20:value,SMS:-40:value  --output 2065.csv\n"
     ]
    }
   ],
   "source": [
    "for i, j in enumerate(site_ids[:1]):\n",
    "    print(site_ids[i], states[i])\n",
    "    query_string = '''https://wcc.sc.egov.usda.gov/reportGenerator/view_csv/customMultiTimeSeriesGroupByStationReport,metric/hourly/start_of_period/{}:{}:SCAN%7Cid=%22%22%7Cname/-35315,-11/SMS:-2:value,SMS:-4:value,SMS:-8:value,SMS:-20:value,SMS:-40:value '''.format(site_ids[i], states[i])\n",
    "    \n",
    "    command = '''curl {} --output {}'''.format(query_string, str(site_ids[i]) +\".txt\")\n",
    "    \n",
    "    print(command)\n",
    "    os.system(command)"
   ]
  },
  {
   "cell_type": "code",
   "execution_count": null,
   "metadata": {},
   "outputs": [],
   "source": []
  },
  {
   "cell_type": "code",
   "execution_count": null,
   "metadata": {},
   "outputs": [],
   "source": []
  },
  {
   "cell_type": "code",
   "execution_count": null,
   "metadata": {},
   "outputs": [],
   "source": []
  }
 ],
 "metadata": {
  "kernelspec": {
   "display_name": "Python 3",
   "language": "python",
   "name": "python3"
  },
  "language_info": {
   "codemirror_mode": {
    "name": "ipython",
    "version": 3
   },
   "file_extension": ".py",
   "mimetype": "text/x-python",
   "name": "python",
   "nbconvert_exporter": "python",
   "pygments_lexer": "ipython3",
   "version": "3.6.8"
  }
 },
 "nbformat": 4,
 "nbformat_minor": 2
}
