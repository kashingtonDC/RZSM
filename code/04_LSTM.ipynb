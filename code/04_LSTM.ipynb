{
 "cells": [
  {
   "cell_type": "code",
   "execution_count": 2,
   "metadata": {},
   "outputs": [],
   "source": [
    "import sys\n",
    "import glob\n",
    "import os\n",
    "import math\n",
    "import pandas as pd\n",
    "import numpy as np\n",
    "import geopandas as gp\n",
    "\n",
    "import matplotlib.pyplot as plt\n",
    "import rsfuncs as rs\n",
    "\n",
    "from scipy import stats\n",
    "from scipy.signal import savgol_filter\n",
    "from sklearn.model_selection import train_test_split\n",
    "from sklearn.preprocessing import StandardScaler\n",
    "from sklearn.preprocessing import MinMaxScaler\n",
    "from sklearn.preprocessing import LabelEncoder\n",
    "from sklearn.metrics import mean_squared_error, r2_score\n",
    "from sklearn.model_selection import KFold\n",
    "\n",
    "from pandas.tseries.offsets import MonthEnd, SemiMonthEnd\n",
    "from datetime import datetime, timedelta\n",
    "from datetime import datetime as dt\n",
    "\n",
    "from keras.models import Sequential, load_model\n",
    "from keras.layers import Dense\n",
    "from keras.layers import LSTM\n",
    "from keras.callbacks import ModelCheckpoint, EarlyStopping\n",
    "from keras import regularizers, optimizers\n",
    "\n",
    "import warnings\n",
    "warnings.filterwarnings('ignore')"
   ]
  },
  {
   "cell_type": "code",
   "execution_count": 3,
   "metadata": {},
   "outputs": [],
   "source": [
    "# Read data\n",
    "states_file = gp.read_file(\"../shape/states.shp\")\n",
    "states = states_file[~states_file['STATE_ABBR'].isin([\"AK\", \"HI\", \"PR\", \"VI\"])]\n",
    "\n",
    "site_file = gp.read_file(\"../shape/scan_sites.shp\")\n",
    "sites = site_file[~site_file['state'].isin([\"AK\", \"HI\", \"PR\", \"VI\"])]\n",
    "\n",
    "# formate data \n",
    "df = pd.read_csv(\"../data/all_dat_f.csv\")\n",
    "df.rename(columns={ df.columns[0]: \"site\" , df.columns[1]:\"date\"}, inplace = True)\n",
    "df.replace([np.inf, -np.inf], np.nan, inplace = True)\n",
    "df = df.set_index(pd.to_datetime(df.date))\n",
    "df['date'] = pd.to_datetime(df.date)"
   ]
  },
  {
   "cell_type": "code",
   "execution_count": 4,
   "metadata": {},
   "outputs": [],
   "source": [
    "# Filter the data\n",
    "\n",
    "# Drop days with 2day precip less than 1 mm\n",
    "df = df[df.precip<1]\n",
    "\n",
    "# Remove Urban Areas\n",
    "df = df[df.lc_type != 2]\n",
    "df = df[df.lc_type != 3]\n",
    "\n",
    "# Remove sites with <10 datapoints\n",
    "for i in df.site.unique():\n",
    "    if len(df[df.site == i]) < 10:\n",
    "        df = df[df.site != i]\n",
    "\n",
    "# Calculate spectral indices\n",
    "df['ndvi'] = (df.B5 - df.B4) / (df.B5 + df.B4)\n",
    "df[\"ndmi\"] = (df.B5 - df.B6) / (df.B5 + df.B6)\n",
    "df[\"evi\"] = 2.5*(df.B5 - df.B4) / (df.B5 + 6*df.B4- 7.5*df.B2 + 1)\n",
    "\n",
    "# For the backscatter columns (df.vv, df.hv), delete any zeros, nans, deal with weird formatting, and calc the mean \n",
    "vv_eff = []\n",
    "\n",
    "for i in df.vv:\n",
    "    line = i.replace(\"[\",\"\")\n",
    "    line = line.replace(\"]\",\"\")\n",
    "    line = ' '.join(line.split())\n",
    "    data = [float(i) for i in line.split(' ')]\n",
    "    data = [i for i in data if i !=0.]\n",
    "    vv_eff.append(np.nanmean(data))\n",
    "    \n",
    "\n",
    "hv_eff = []\n",
    "\n",
    "for i in df.hv:\n",
    "    if type(i) is float:\n",
    "        hv_eff.append(np.nan)\n",
    "    else:\n",
    "        line = i.replace(\"[\",\"\")\n",
    "        line = line.replace(\"]\",\"\")\n",
    "        line = ' '.join(line.split())\n",
    "        data = [float(i) for i in line.split(' ')]\n",
    "        data = [i for i in data if i !=0.]\n",
    "        hv_eff.append(np.nanmean(data))\n",
    "\n",
    "\n",
    "df['vv'] = vv_eff\n",
    "df['hv'] = hv_eff\n",
    "\n",
    "# calc the 12 day means for each site: \n",
    "df = df.groupby(['site']).resample('12D').mean().fillna(np.nan).dropna()\n",
    "\n",
    "\n",
    "# def compute_lags(df, n=3):\n",
    "#     df['vv_t1'] = df['vv'].shift(1)\n",
    "#     df['hv_t1'] = df['hv'].shift(1)\n",
    "#     df['vv_t2'] = df['vv'].shift(2)\n",
    "#     df['hv_t2'] = df['hv'].shift(2)\n",
    "#     df['vv_t3'] = df['vv'].shift(3)\n",
    "#     df['hv_t3'] = df['hv'].shift(3)\n",
    "\n",
    "#     return df\n",
    "\n",
    "# df = compute_lags(df)"
   ]
  },
  {
   "cell_type": "code",
   "execution_count": 5,
   "metadata": {},
   "outputs": [],
   "source": [
    "# Drop the non interpolated landsat bands\n",
    "cols = [c for c in df.columns if 'filt' not in c]\n",
    "df=df[cols]"
   ]
  },
  {
   "cell_type": "code",
   "execution_count": 6,
   "metadata": {},
   "outputs": [],
   "source": [
    "# Add the time lagged predictors \n",
    "s1 = df.groupby(level=\"site\").shift(1)\n",
    "df1 = df.join(s1.rename(columns=lambda x: x+\"_t1\"))\n",
    "\n",
    "s2 = df.groupby(level=\"site\").shift(2)\n",
    "df2 = df1.join(s2.rename(columns=lambda x: x+\"_t2\"))\n",
    "\n",
    "s3 = df.groupby(level=\"site\").shift(3)\n",
    "df3 = df2.join(s3.rename(columns=lambda x: x+\"_t3\"))"
   ]
  },
  {
   "cell_type": "code",
   "execution_count": 7,
   "metadata": {},
   "outputs": [],
   "source": [
    "# Drop unnecessary cols "
   ]
  },
  {
   "cell_type": "code",
   "execution_count": 8,
   "metadata": {},
   "outputs": [],
   "source": [
    "dropstrs = ['site','precip',\"lc_type_\", 'rzsm_', 'ssm', 'psi_rz', \"psi_s\"]\n",
    "dropcols = []\n",
    "\n",
    "for i in df3.columns:\n",
    "    for x in dropstrs:\n",
    "        if x in i:\n",
    "            dropcols.append(i)\n",
    "            \n",
    "df3 = df3.drop(dropcols, axis = 1)"
   ]
  },
  {
   "cell_type": "code",
   "execution_count": 9,
   "metadata": {},
   "outputs": [],
   "source": [
    "# One hot encode the landcover types *** figure this out\n",
    "# one_hot = pd.get_dummies(df3.lc_type, drop_first=True )\n",
    "# rdf = pd.concat([df3, one_hot], axis = 1)\n",
    "# rdf = rdf.drop([\"lc_type\"], axis = 1)\n",
    "# df = rdf.reset_index(level='site')"
   ]
  },
  {
   "cell_type": "code",
   "execution_count": 10,
   "metadata": {},
   "outputs": [],
   "source": [
    "df3 = df3.drop([\"lc_type\"], axis = 1)\n",
    "df = df3.reset_index(level='site')\n",
    "df = df.dropna()"
   ]
  },
  {
   "cell_type": "code",
   "execution_count": 46,
   "metadata": {},
   "outputs": [],
   "source": [
    "# Modeling options\n",
    "\n",
    "EPOCHS = 100\n",
    "BATCHSIZE = 50\n",
    "DROPOUT = 0.25\n",
    "LOSS = 'mse'\n",
    "\n",
    "Areg = regularizers.l2(1e-5)\n",
    "Breg = regularizers.l2(1e-3)\n",
    "Kreg = regularizers.l2(1e-15)\n",
    "Rreg = regularizers.l2(1e-15)\n",
    "\n",
    "def build_model(input_shape):\n",
    "    # make the model \n",
    "    model = Sequential()\n",
    "\n",
    "    model.add(LSTM(100, input_shape=input_shape, dropout = 0.05,recurrent_dropout=0.05,return_sequences=True,bias_regularizer= Breg))\n",
    "    model.add(LSTM(50, input_shape=input_shape, dropout = 0.05,recurrent_dropout=0.05,return_sequences=True,bias_regularizer= Breg))\n",
    "    model.add(LSTM(10, input_shape=input_shape, dropout = 0.05,recurrent_dropout=0.05,bias_regularizer= Breg))\n",
    "\n",
    "    model.add(Dense(1))\n",
    "    model.compile(loss=\"mse\", optimizer='adam')\n",
    "    \n",
    "    return model\n"
   ]
  },
  {
   "cell_type": "code",
   "execution_count": 47,
   "metadata": {},
   "outputs": [],
   "source": [
    "out = {\"train_preds\":[], # rs\n",
    "       \"test_preds\":[], # wells\n",
    "       \"train_act\":[], # c2vsim\n",
    "       \"test_act\":[]  # grace \n",
    "        }"
   ]
  },
  {
   "cell_type": "code",
   "execution_count": null,
   "metadata": {},
   "outputs": [
    {
     "name": "stdout",
     "output_type": "stream",
     "text": [
      "Processing 581\n"
     ]
    }
   ],
   "source": [
    "for i in df.site.unique()[:1]:\n",
    "\n",
    "    print(\"Processing {}\".format(i))\n",
    "    \n",
    "    # Hold one out cross validation - loop through sites and select 1 to test on and the rest to train \n",
    "    sdf = df[df.site == i]\n",
    "    y_test = sdf.rzsm\n",
    "    X_test = sdf.drop([\"site\",\"rzsm\"], axis=1)\n",
    "\n",
    "    nsdf = df[df.site != i]\n",
    "    y_train = nsdf.rzsm \n",
    "    X_train = nsdf.drop([\"site\",\"rzsm\"], axis=1)\n",
    "        \n",
    "    # Scale data\n",
    "    transformer_x = StandardScaler().fit(X_train)\n",
    "    transformer_y = StandardScaler().fit(np.array(y_train).reshape(-1, 1)) \n",
    "    \n",
    "    X_train = transformer_x.transform(X_train)\n",
    "    y_train = transformer_y.transform(np.array(y_train).reshape(-1, 1))\n",
    "    X_test = transformer_x.transform(X_test)\n",
    "    y_test = transformer_y.transform(np.array(y_test).reshape(-1, 1))\n",
    "    \n",
    "    # LSTM params\n",
    "    n_lags = 4\n",
    "    n_features = 12\n",
    "\n",
    "    X_train = X_train.reshape((X_train.shape[0], n_lags, 12))\n",
    "    X_test = X_test.reshape((X_test.shape[0], n_lags, 12))\n",
    "\n",
    "    input_shape=(X_train.shape[1], X_train.shape[2])\n",
    "    \n",
    "    model = build_model(input_shape=input_shape)\n",
    "    \n",
    "    # Fit\n",
    "    model.fit(X_train, y_train, epochs=1000, batch_size=1000, verbose=1)\n",
    "\n",
    "    # Get the predictions\n",
    "    yhat_train = model.predict(X_train)\n",
    "    \n",
    "    trainPredict = transformer_y.inverse_transform(yhat_train.reshape(-1,1))\n",
    "    trainY = transformer_y.inverse_transform(y_train)\n",
    "    \n",
    "    yhat = model.predict(X_test)\n",
    "    testPredict = transformer_y.inverse_transform(yhat.reshape(-1,1))\n",
    "    testY = transformer_y.inverse_transform(y_test)\n",
    "\n",
    "    trainScore = math.sqrt(mean_squared_error(y_train, trainPredict))\n",
    "    print('Train Score: %.2f RMSE' % (trainScore))\n",
    "    testScore = math.sqrt(mean_squared_error(y_test, testPredict))\n",
    "    print('Test Score: %.2f RMSE' % (testScore))\n",
    "    \n",
    "    out[\"test_preds\"] = testPredict\n",
    "    out[\"train_preds\"] = trainPredict\n",
    "    \n",
    "    out[\"test_act\"] = testY\n",
    "    out[\"train_act\"] = trainY"
   ]
  },
  {
   "cell_type": "code",
   "execution_count": 171,
   "metadata": {},
   "outputs": [
    {
     "data": {
      "text/plain": [
       "Text(0, 0.5, 'actual')"
      ]
     },
     "execution_count": 171,
     "metadata": {},
     "output_type": "execute_result"
    },
    {
     "data": {
      "image/png": "[encoded data removed]",
      "text/plain": [
       "<Figure size 432x288 with 1 Axes>"
      ]
     },
     "metadata": {
      "needs_background": "light"
     },
     "output_type": "display_data"
    }
   ],
   "source": [
    "# plt.xlim(0,100)\n",
    "# plt.ylim(0,100)\n",
    "\n",
    "plt.scatter(trainPredict, trainY)\n",
    "plt.scatter(testPredict, testY)\n",
    "plt.title('''\n",
    "            train set RMSE = {}\n",
    "            test set RMSE = {}\n",
    "            '''.format(round(trainScore,2),round(testScore,2)))\n",
    "\n",
    "plt.xlabel(\"predicted\")\n",
    "plt.ylabel(\"actual\")"
   ]
  },
  {
   "cell_type": "code",
   "execution_count": 168,
   "metadata": {},
   "outputs": [
    {
     "data": {
      "text/plain": [
       "array([[15.995805],\n",
       "       [15.360885],\n",
       "       [15.945273],\n",
       "       ...,\n",
       "       [19.736225],\n",
       "       [20.459282],\n",
       "       [22.588476]], dtype=float32)"
      ]
     },
     "execution_count": 168,
     "metadata": {},
     "output_type": "execute_result"
    }
   ],
   "source": [
    "transformer_y.inverse_transform(yhat_train)"
   ]
  },
  {
   "cell_type": "code",
   "execution_count": null,
   "metadata": {},
   "outputs": [],
   "source": []
  }
 ],
 "metadata": {
  "kernelspec": {
   "display_name": "Python 3",
   "language": "python",
   "name": "python3"
  },
  "language_info": {
   "codemirror_mode": {
    "name": "ipython",
    "version": 3
   },
   "file_extension": ".py",
   "mimetype": "text/x-python",
   "name": "python",
   "nbconvert_exporter": "python",
   "pygments_lexer": "ipython3",
   "version": "3.6.8"
  }
 },
 "nbformat": 4,
 "nbformat_minor": 2
}
