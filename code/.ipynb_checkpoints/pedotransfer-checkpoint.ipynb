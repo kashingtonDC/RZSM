{
 "cells": [
  {
   "cell_type": "code",
   "execution_count": 1,
   "metadata": {},
   "outputs": [],
   "source": [
    "import os\n",
    "import glob\n",
    "import rasterio\n",
    "import fiona\n",
    "\n",
    "import numpy as np\n",
    "import pandas as pd\n",
    "import geopandas as gp\n",
    "import matplotlib.pyplot as plt\n",
    "\n",
    "from osgeo import gdal\n",
    "from shapely.geometry import Point"
   ]
  },
  {
   "cell_type": "code",
   "execution_count": 2,
   "metadata": {},
   "outputs": [],
   "source": [
    "def read_file(filename):\n",
    "    with open(filename) as f:\n",
    "        contents = f.readlines()\n",
    "\n",
    "    data = []\n",
    "    for line in contents:\n",
    "        if line[0:1] == \"#\":\n",
    "            continue\n",
    "        else:\n",
    "            data.append(line)\n",
    "\n",
    "    headers = [x.replace(\"Soil Moisture Percent\",\"smp\").replace(\" \",\"_\") for x in data[0].split(\",\")]\n",
    "    cols = [x.strip(\"\\n\").split(\",\") for x in data[1:]]\n",
    "\n",
    "    df = pd.DataFrame(cols, columns = headers)\n",
    "    \n",
    "    return df\n",
    "\n",
    "def get_site_lat_lons(site_num, stations_csv):\n",
    "    df = pd.read_csv(stations_csv)\n",
    "    site = df[df['site_name'].str.contains(site_no)]\n",
    "    \n",
    "    lat, lon = site['lat'].values, site['lon'].values\n",
    "    return lat[0], lon[0]"
   ]
  },
  {
   "cell_type": "code",
   "execution_count": 3,
   "metadata": {},
   "outputs": [],
   "source": [
    "csvs = glob.glob(\"*.csv\")\n",
    "txts = glob.glob(\"*.txt\")\n",
    "df = pd.read_csv(csvs[0])\n",
    "lats = df.lat\n",
    "longs = df.lon"
   ]
  },
  {
   "cell_type": "code",
   "execution_count": 4,
   "metadata": {},
   "outputs": [],
   "source": [
    "lats = df.lat\n",
    "longs = df.lon"
   ]
  },
  {
   "cell_type": "code",
   "execution_count": 5,
   "metadata": {},
   "outputs": [],
   "source": [
    "crs = {\"init\":\"epsg:4326\"}\n",
    "geom = [Point(xy) for xy in zip(longs,lats)]"
   ]
  },
  {
   "cell_type": "code",
   "execution_count": 6,
   "metadata": {},
   "outputs": [],
   "source": [
    "gdf = gp.GeoDataFrame(df, crs = crs, geometry = geom)"
   ]
  },
  {
   "cell_type": "code",
   "execution_count": 7,
   "metadata": {},
   "outputs": [],
   "source": [
    "# gdf.to_file(\"../shape/scan_sites.shp\")"
   ]
  },
  {
   "cell_type": "code",
   "execution_count": 8,
   "metadata": {},
   "outputs": [
    {
     "name": "stderr",
     "output_type": "stream",
     "text": [
      "/anaconda3/envs/gis/lib/python3.6/site-packages/ipykernel_launcher.py:28: RuntimeWarning: overflow encountered in exp\n"
     ]
    }
   ],
   "source": [
    "# Extract raster values at points:\n",
    "clays = []\n",
    "silts = []\n",
    "sands = []\n",
    "A = []\n",
    "B = []\n",
    "\n",
    "# Read input shapefile with fiona and iterate over each feature\n",
    "with fiona.open('../shape/scan_sites.shp') as shp:\n",
    "    for feature in shp:\n",
    "        station_name = feature['properties']['site_name']\n",
    "        coords = feature['geometry']['coordinates']\n",
    "        # Read pixel value at the given coordinates using Rasterio\n",
    "        # NB: `sample()` returns an iterable of ndarrays.\n",
    "        with rasterio.open('../rasters/Unified_NA_Soil_Map_Subsoil_Clay_Fraction.tif') as src:\n",
    "            clay = [v for v in src.sample([coords])][0][0]\n",
    "        with rasterio.open('../rasters/Unified_NA_Soil_Map_Subsoil_Silt_Fraction.tif') as src:\n",
    "            silt = [v for v in src.sample([coords])][0][0]\n",
    "        with rasterio.open('../rasters/Unified_NA_Soil_Map_Subsoil_Sand_Fraction.tif') as src:\n",
    "            sand = [v for v in src.sample([coords])][0][0]\n",
    "            \n",
    "        # Update lists accordingly\n",
    "        clays.append(clay)\n",
    "        sands.append(sand)\n",
    "        silts.append(silt)\n",
    "        \n",
    "        # Calculate constants\n",
    "        a = np.exp(-4.396 - (0.0715*(clay)) - (4.880 * 1e-4*(sand**2)) - (4.285 * 1e-5*(sand**2)*(clay)))\n",
    "        A.append(a)\n",
    "        \n",
    "        b = ((-3.140 - (0.00222 * (clay)**2))) - (3.484 * 1e-5 * ((sand**2)  * (clay)))\n",
    "        B.append(b)\n",
    "        "
   ]
  },
  {
   "cell_type": "code",
   "execution_count": null,
   "metadata": {},
   "outputs": [],
   "source": []
  },
  {
   "cell_type": "code",
   "execution_count": 9,
   "metadata": {},
   "outputs": [],
   "source": [
    "df['clay_fract'] = clays\n",
    "df['silt_fract'] = silts\n",
    "df['sand_fract'] = sands\n",
    "df['a'] = A\n",
    "df['b'] = B\n"
   ]
  },
  {
   "cell_type": "code",
   "execution_count": 10,
   "metadata": {},
   "outputs": [],
   "source": [
    "# df.to_csv(\"../data/sites_textures.csv\")"
   ]
  },
  {
   "cell_type": "code",
   "execution_count": 10,
   "metadata": {},
   "outputs": [],
   "source": [
    "gdf['clay_fract'] = clays\n",
    "gdf['silt_fract'] = silts\n",
    "gdf['sand_fract'] = sands\n",
    "gdf['a'] = A\n",
    "gdf['b'] = B"
   ]
  },
  {
   "cell_type": "code",
   "execution_count": 12,
   "metadata": {},
   "outputs": [],
   "source": [
    "# gdf.to_file(\"../shape/scan_sites.shp\")"
   ]
  },
  {
   "cell_type": "code",
   "execution_count": 11,
   "metadata": {},
   "outputs": [
    {
     "data": {
      "text/html": [
       "<div>\n",
       "<style scoped>\n",
       "    .dataframe tbody tr th:only-of-type {\n",
       "        vertical-align: middle;\n",
       "    }\n",
       "\n",
       "    .dataframe tbody tr th {\n",
       "        vertical-align: top;\n",
       "    }\n",
       "\n",
       "    .dataframe thead th {\n",
       "        text-align: right;\n",
       "    }\n",
       "</style>\n",
       "<table border=\"1\" class=\"dataframe\">\n",
       "  <thead>\n",
       "    <tr style=\"text-align: right;\">\n",
       "      <th></th>\n",
       "      <th>ntwk</th>\n",
       "      <th>state</th>\n",
       "      <th>site_name</th>\n",
       "      <th>ts</th>\n",
       "      <th>start</th>\n",
       "      <th>lat</th>\n",
       "      <th>lon</th>\n",
       "      <th>elev</th>\n",
       "      <th>county</th>\n",
       "      <th>huc</th>\n",
       "      <th>geometry</th>\n",
       "      <th>clay_fract</th>\n",
       "      <th>silt_fract</th>\n",
       "      <th>sand_fract</th>\n",
       "      <th>a</th>\n",
       "      <th>b</th>\n",
       "    </tr>\n",
       "  </thead>\n",
       "  <tbody>\n",
       "    <tr>\n",
       "      <th>0</th>\n",
       "      <td>SCAN</td>\n",
       "      <td>AK</td>\n",
       "      <td>Aniak (2065)</td>\n",
       "      <td>NaN</td>\n",
       "      <td>2002-July</td>\n",
       "      <td>61.58</td>\n",
       "      <td>-159.58</td>\n",
       "      <td>80</td>\n",
       "      <td>Bethel</td>\n",
       "      <td>Aniak Slough-Kuskokwim River (190305020504)</td>\n",
       "      <td>POINT (-159.58 61.58)</td>\n",
       "      <td>8.0</td>\n",
       "      <td>58.0</td>\n",
       "      <td>34.0</td>\n",
       "      <td>0.002663</td>\n",
       "      <td>-3.60428</td>\n",
       "    </tr>\n",
       "    <tr>\n",
       "      <th>1</th>\n",
       "      <td>SCAN</td>\n",
       "      <td>AK</td>\n",
       "      <td>Canyon Lake (1232)</td>\n",
       "      <td>NaN</td>\n",
       "      <td>2014-August</td>\n",
       "      <td>59.42</td>\n",
       "      <td>-161.16</td>\n",
       "      <td>550</td>\n",
       "      <td>Bethel</td>\n",
       "      <td>Canyon Creek (190305028402)</td>\n",
       "      <td>POINT (-161.16 59.42)</td>\n",
       "      <td>3.0</td>\n",
       "      <td>47.0</td>\n",
       "      <td>50.0</td>\n",
       "      <td>0.002129</td>\n",
       "      <td>-3.42128</td>\n",
       "    </tr>\n",
       "    <tr>\n",
       "      <th>2</th>\n",
       "      <td>SCAN</td>\n",
       "      <td>AK</td>\n",
       "      <td>Checkers Creek (2213)</td>\n",
       "      <td>NaN</td>\n",
       "      <td>2014-September</td>\n",
       "      <td>65.40</td>\n",
       "      <td>-164.71</td>\n",
       "      <td>326</td>\n",
       "      <td>Nome</td>\n",
       "      <td>Quartz Creek (190501050503)</td>\n",
       "      <td>POINT (-164.71 65.40000000000001)</td>\n",
       "      <td>5.0</td>\n",
       "      <td>58.0</td>\n",
       "      <td>37.0</td>\n",
       "      <td>0.003297</td>\n",
       "      <td>-3.43398</td>\n",
       "    </tr>\n",
       "    <tr>\n",
       "      <th>3</th>\n",
       "      <td>SCAN</td>\n",
       "      <td>AK</td>\n",
       "      <td>Hozatka Lake (2210)</td>\n",
       "      <td>NaN</td>\n",
       "      <td>2014-August</td>\n",
       "      <td>65.20</td>\n",
       "      <td>-156.63</td>\n",
       "      <td>206</td>\n",
       "      <td>Yukon-koyukuk</td>\n",
       "      <td>Hozatka Lake (190901091201)</td>\n",
       "      <td>POINT (-156.63 65.2)</td>\n",
       "      <td>8.0</td>\n",
       "      <td>58.0</td>\n",
       "      <td>34.0</td>\n",
       "      <td>0.002663</td>\n",
       "      <td>-3.60428</td>\n",
       "    </tr>\n",
       "    <tr>\n",
       "      <th>4</th>\n",
       "      <td>SCAN</td>\n",
       "      <td>AK</td>\n",
       "      <td>Innoko Camp (2211)</td>\n",
       "      <td>NaN</td>\n",
       "      <td>2014-August</td>\n",
       "      <td>63.64</td>\n",
       "      <td>-158.03</td>\n",
       "      <td>83</td>\n",
       "      <td>Yukon-koyukuk</td>\n",
       "      <td>190903031103-Innoko River (190903031103)</td>\n",
       "      <td>POINT (-158.03 63.64)</td>\n",
       "      <td>8.0</td>\n",
       "      <td>58.0</td>\n",
       "      <td>34.0</td>\n",
       "      <td>0.002663</td>\n",
       "      <td>-3.60428</td>\n",
       "    </tr>\n",
       "  </tbody>\n",
       "</table>\n",
       "</div>"
      ],
      "text/plain": [
       "   ntwk state              site_name  ts           start    lat     lon  elev  \\\n",
       "0  SCAN    AK           Aniak (2065) NaN       2002-July  61.58 -159.58    80   \n",
       "1  SCAN    AK     Canyon Lake (1232) NaN     2014-August  59.42 -161.16   550   \n",
       "2  SCAN    AK  Checkers Creek (2213) NaN  2014-September  65.40 -164.71   326   \n",
       "3  SCAN    AK    Hozatka Lake (2210) NaN     2014-August  65.20 -156.63   206   \n",
       "4  SCAN    AK     Innoko Camp (2211) NaN     2014-August  63.64 -158.03    83   \n",
       "\n",
       "          county                                          huc  \\\n",
       "0         Bethel  Aniak Slough-Kuskokwim River (190305020504)   \n",
       "1         Bethel                  Canyon Creek (190305028402)   \n",
       "2           Nome                  Quartz Creek (190501050503)   \n",
       "3  Yukon-koyukuk                  Hozatka Lake (190901091201)   \n",
       "4  Yukon-koyukuk     190903031103-Innoko River (190903031103)   \n",
       "\n",
       "                            geometry  clay_fract  silt_fract  sand_fract  \\\n",
       "0              POINT (-159.58 61.58)         8.0        58.0        34.0   \n",
       "1              POINT (-161.16 59.42)         3.0        47.0        50.0   \n",
       "2  POINT (-164.71 65.40000000000001)         5.0        58.0        37.0   \n",
       "3               POINT (-156.63 65.2)         8.0        58.0        34.0   \n",
       "4              POINT (-158.03 63.64)         8.0        58.0        34.0   \n",
       "\n",
       "          a        b  \n",
       "0  0.002663 -3.60428  \n",
       "1  0.002129 -3.42128  \n",
       "2  0.003297 -3.43398  \n",
       "3  0.002663 -3.60428  \n",
       "4  0.002663 -3.60428  "
      ]
     },
     "execution_count": 11,
     "metadata": {},
     "output_type": "execute_result"
    }
   ],
   "source": [
    "gdf.head()"
   ]
  },
  {
   "cell_type": "code",
   "execution_count": null,
   "metadata": {},
   "outputs": [],
   "source": []
  }
 ],
 "metadata": {
  "kernelspec": {
   "display_name": "Python 3",
   "language": "python",
   "name": "python3"
  },
  "language_info": {
   "codemirror_mode": {
    "name": "ipython",
    "version": 3
   },
   "file_extension": ".py",
   "mimetype": "text/x-python",
   "name": "python",
   "nbconvert_exporter": "python",
   "pygments_lexer": "ipython3",
   "version": "3.6.8"
  }
 },
 "nbformat": 4,
 "nbformat_minor": 2
}
